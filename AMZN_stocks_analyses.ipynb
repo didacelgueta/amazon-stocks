{
 "cells": [
  {
   "cell_type": "markdown",
   "metadata": {},
   "source": [
    "# AMAZON STOCKS ANALYSES"
   ]
  },
  {
   "cell_type": "code",
   "execution_count": 1,
   "metadata": {},
   "outputs": [],
   "source": [
    "import pandas as pd\n",
    "import numpy as np\n",
    "from matplotlib import pyplot as plt\n",
    "from alpha_vantage.timeseries import TimeSeries\n",
    "from alpha_vantage.techindicators import TechIndicators\n",
    "\n",
    "%matplotlib notebook"
   ]
  },
  {
   "cell_type": "markdown",
   "metadata": {},
   "source": [
    "## Connecting to the API and gathering the data"
   ]
  },
  {
   "cell_type": "code",
   "execution_count": 2,
   "metadata": {},
   "outputs": [],
   "source": [
    "# Parameters to connect the API\n",
    "key = 'apikey",
    "# Chose your output format, or default to JSON (python dict)\n",
    "ts = TimeSeries(key, output_format='pandas')\n",
    "ti = TechIndicators(key, output_format='pandas')\n",
    "\n",
    "# amzn_data is a pandas dataframe, amzn_meta_data is a dict\n",
    "amzn_data, amzn_meta_data = ts.get_daily(symbol='AMZN', outputsize='full')\n",
    "# amzn_sma is a dict, amzn_meta_sma also a dict\n",
    "amzn_sma, amzn_meta_sma = ti.get_sma(symbol='AMZN')"
   ]
  },
  {
   "cell_type": "markdown",
   "metadata": {},
   "source": [
    "### Visualitzation data"
   ]
  },
  {
   "cell_type": "code",
   "execution_count": 3,
   "metadata": {},
   "outputs": [
    {
     "data": {
      "text/html": [
       "<div>\n",
       "<style scoped>\n",
       "    .dataframe tbody tr th:only-of-type {\n",
       "        vertical-align: middle;\n",
       "    }\n",
       "\n",
       "    .dataframe tbody tr th {\n",
       "        vertical-align: top;\n",
       "    }\n",
       "\n",
       "    .dataframe thead th {\n",
       "        text-align: right;\n",
       "    }\n",
       "</style>\n",
       "<table border=\"1\" class=\"dataframe\">\n",
       "  <thead>\n",
       "    <tr style=\"text-align: right;\">\n",
       "      <th></th>\n",
       "      <th>1. open</th>\n",
       "      <th>2. high</th>\n",
       "      <th>3. low</th>\n",
       "      <th>4. close</th>\n",
       "      <th>5. volume</th>\n",
       "    </tr>\n",
       "    <tr>\n",
       "      <th>date</th>\n",
       "      <th></th>\n",
       "      <th></th>\n",
       "      <th></th>\n",
       "      <th></th>\n",
       "      <th></th>\n",
       "    </tr>\n",
       "  </thead>\n",
       "  <tbody>\n",
       "    <tr>\n",
       "      <th>2020-01-03</th>\n",
       "      <td>1864.50</td>\n",
       "      <td>1886.20</td>\n",
       "      <td>1864.50</td>\n",
       "      <td>1874.97</td>\n",
       "      <td>3766604.0</td>\n",
       "    </tr>\n",
       "    <tr>\n",
       "      <th>2020-01-02</th>\n",
       "      <td>1875.00</td>\n",
       "      <td>1898.01</td>\n",
       "      <td>1864.15</td>\n",
       "      <td>1898.01</td>\n",
       "      <td>4035910.0</td>\n",
       "    </tr>\n",
       "    <tr>\n",
       "      <th>2019-12-31</th>\n",
       "      <td>1842.00</td>\n",
       "      <td>1853.26</td>\n",
       "      <td>1832.23</td>\n",
       "      <td>1847.84</td>\n",
       "      <td>2510380.0</td>\n",
       "    </tr>\n",
       "    <tr>\n",
       "      <th>2019-12-30</th>\n",
       "      <td>1874.00</td>\n",
       "      <td>1884.00</td>\n",
       "      <td>1840.62</td>\n",
       "      <td>1846.89</td>\n",
       "      <td>3677306.0</td>\n",
       "    </tr>\n",
       "    <tr>\n",
       "      <th>2019-12-27</th>\n",
       "      <td>1882.92</td>\n",
       "      <td>1901.40</td>\n",
       "      <td>1866.01</td>\n",
       "      <td>1869.80</td>\n",
       "      <td>6188754.0</td>\n",
       "    </tr>\n",
       "  </tbody>\n",
       "</table>\n",
       "</div>"
      ],
      "text/plain": [
       "            1. open  2. high   3. low  4. close  5. volume\n",
       "date                                                      \n",
       "2020-01-03  1864.50  1886.20  1864.50   1874.97  3766604.0\n",
       "2020-01-02  1875.00  1898.01  1864.15   1898.01  4035910.0\n",
       "2019-12-31  1842.00  1853.26  1832.23   1847.84  2510380.0\n",
       "2019-12-30  1874.00  1884.00  1840.62   1846.89  3677306.0\n",
       "2019-12-27  1882.92  1901.40  1866.01   1869.80  6188754.0"
      ]
     },
     "execution_count": 3,
     "metadata": {},
     "output_type": "execute_result"
    }
   ],
   "source": [
    "amzn_data.head(5)"
   ]
  },
  {
   "cell_type": "code",
   "execution_count": 4,
   "metadata": {},
   "outputs": [
    {
     "name": "stdout",
     "output_type": "stream",
     "text": [
      "<class 'pandas.core.frame.DataFrame'>\n",
      "DatetimeIndex: 5032 entries, 2020-01-03 to 2000-01-04\n",
      "Data columns (total 5 columns):\n",
      "1. open      5032 non-null float64\n",
      "2. high      5032 non-null float64\n",
      "3. low       5032 non-null float64\n",
      "4. close     5032 non-null float64\n",
      "5. volume    5032 non-null float64\n",
      "dtypes: float64(5)\n",
      "memory usage: 235.9 KB\n"
     ]
    },
    {
     "data": {
      "text/html": [
       "<div>\n",
       "<style scoped>\n",
       "    .dataframe tbody tr th:only-of-type {\n",
       "        vertical-align: middle;\n",
       "    }\n",
       "\n",
       "    .dataframe tbody tr th {\n",
       "        vertical-align: top;\n",
       "    }\n",
       "\n",
       "    .dataframe thead th {\n",
       "        text-align: right;\n",
       "    }\n",
       "</style>\n",
       "<table border=\"1\" class=\"dataframe\">\n",
       "  <thead>\n",
       "    <tr style=\"text-align: right;\">\n",
       "      <th></th>\n",
       "      <th>1. open</th>\n",
       "      <th>2. high</th>\n",
       "      <th>3. low</th>\n",
       "      <th>4. close</th>\n",
       "      <th>5. volume</th>\n",
       "    </tr>\n",
       "  </thead>\n",
       "  <tbody>\n",
       "    <tr>\n",
       "      <th>count</th>\n",
       "      <td>5032.000000</td>\n",
       "      <td>5032.000000</td>\n",
       "      <td>5032.000000</td>\n",
       "      <td>5032.000000</td>\n",
       "      <td>5.032000e+03</td>\n",
       "    </tr>\n",
       "    <tr>\n",
       "      <th>mean</th>\n",
       "      <td>361.751644</td>\n",
       "      <td>365.452368</td>\n",
       "      <td>357.542088</td>\n",
       "      <td>361.690535</td>\n",
       "      <td>6.537283e+06</td>\n",
       "    </tr>\n",
       "    <tr>\n",
       "      <th>std</th>\n",
       "      <td>519.000913</td>\n",
       "      <td>523.374833</td>\n",
       "      <td>513.531489</td>\n",
       "      <td>518.688868</td>\n",
       "      <td>5.158930e+06</td>\n",
       "    </tr>\n",
       "    <tr>\n",
       "      <th>min</th>\n",
       "      <td>5.910000</td>\n",
       "      <td>6.100000</td>\n",
       "      <td>5.510000</td>\n",
       "      <td>5.970000</td>\n",
       "      <td>8.813370e+05</td>\n",
       "    </tr>\n",
       "    <tr>\n",
       "      <th>25%</th>\n",
       "      <td>40.395000</td>\n",
       "      <td>41.250000</td>\n",
       "      <td>39.750000</td>\n",
       "      <td>40.455000</td>\n",
       "      <td>3.636801e+06</td>\n",
       "    </tr>\n",
       "    <tr>\n",
       "      <th>50%</th>\n",
       "      <td>120.220000</td>\n",
       "      <td>122.380000</td>\n",
       "      <td>117.818000</td>\n",
       "      <td>120.095000</td>\n",
       "      <td>5.416496e+06</td>\n",
       "    </tr>\n",
       "    <tr>\n",
       "      <th>75%</th>\n",
       "      <td>376.185000</td>\n",
       "      <td>379.340000</td>\n",
       "      <td>373.242500</td>\n",
       "      <td>375.462500</td>\n",
       "      <td>7.811038e+06</td>\n",
       "    </tr>\n",
       "    <tr>\n",
       "      <th>max</th>\n",
       "      <td>2038.110000</td>\n",
       "      <td>2050.500000</td>\n",
       "      <td>2013.000000</td>\n",
       "      <td>2039.510000</td>\n",
       "      <td>1.043292e+08</td>\n",
       "    </tr>\n",
       "  </tbody>\n",
       "</table>\n",
       "</div>"
      ],
      "text/plain": [
       "           1. open      2. high       3. low     4. close     5. volume\n",
       "count  5032.000000  5032.000000  5032.000000  5032.000000  5.032000e+03\n",
       "mean    361.751644   365.452368   357.542088   361.690535  6.537283e+06\n",
       "std     519.000913   523.374833   513.531489   518.688868  5.158930e+06\n",
       "min       5.910000     6.100000     5.510000     5.970000  8.813370e+05\n",
       "25%      40.395000    41.250000    39.750000    40.455000  3.636801e+06\n",
       "50%     120.220000   122.380000   117.818000   120.095000  5.416496e+06\n",
       "75%     376.185000   379.340000   373.242500   375.462500  7.811038e+06\n",
       "max    2038.110000  2050.500000  2013.000000  2039.510000  1.043292e+08"
      ]
     },
     "execution_count": 4,
     "metadata": {},
     "output_type": "execute_result"
    }
   ],
   "source": [
    "# Show some info about the data set\n",
    "amzn_data.info()\n",
    "amzn_data.describe()"
   ]
  },
  {
   "cell_type": "code",
   "execution_count": 5,
   "metadata": {},
   "outputs": [
    {
     "data": {
      "text/html": [
       "<div>\n",
       "<style scoped>\n",
       "    .dataframe tbody tr th:only-of-type {\n",
       "        vertical-align: middle;\n",
       "    }\n",
       "\n",
       "    .dataframe tbody tr th {\n",
       "        vertical-align: top;\n",
       "    }\n",
       "\n",
       "    .dataframe thead th {\n",
       "        text-align: right;\n",
       "    }\n",
       "</style>\n",
       "<table border=\"1\" class=\"dataframe\">\n",
       "  <thead>\n",
       "    <tr style=\"text-align: right;\">\n",
       "      <th></th>\n",
       "      <th>open</th>\n",
       "      <th>high</th>\n",
       "      <th>low</th>\n",
       "      <th>close</th>\n",
       "      <th>volume</th>\n",
       "    </tr>\n",
       "    <tr>\n",
       "      <th>date</th>\n",
       "      <th></th>\n",
       "      <th></th>\n",
       "      <th></th>\n",
       "      <th></th>\n",
       "      <th></th>\n",
       "    </tr>\n",
       "  </thead>\n",
       "  <tbody>\n",
       "    <tr>\n",
       "      <th>2020-01-03</th>\n",
       "      <td>1864.50</td>\n",
       "      <td>1886.20</td>\n",
       "      <td>1864.50</td>\n",
       "      <td>1874.97</td>\n",
       "      <td>3766604.0</td>\n",
       "    </tr>\n",
       "    <tr>\n",
       "      <th>2020-01-02</th>\n",
       "      <td>1875.00</td>\n",
       "      <td>1898.01</td>\n",
       "      <td>1864.15</td>\n",
       "      <td>1898.01</td>\n",
       "      <td>4035910.0</td>\n",
       "    </tr>\n",
       "    <tr>\n",
       "      <th>2019-12-31</th>\n",
       "      <td>1842.00</td>\n",
       "      <td>1853.26</td>\n",
       "      <td>1832.23</td>\n",
       "      <td>1847.84</td>\n",
       "      <td>2510380.0</td>\n",
       "    </tr>\n",
       "    <tr>\n",
       "      <th>2019-12-30</th>\n",
       "      <td>1874.00</td>\n",
       "      <td>1884.00</td>\n",
       "      <td>1840.62</td>\n",
       "      <td>1846.89</td>\n",
       "      <td>3677306.0</td>\n",
       "    </tr>\n",
       "    <tr>\n",
       "      <th>2019-12-27</th>\n",
       "      <td>1882.92</td>\n",
       "      <td>1901.40</td>\n",
       "      <td>1866.01</td>\n",
       "      <td>1869.80</td>\n",
       "      <td>6188754.0</td>\n",
       "    </tr>\n",
       "    <tr>\n",
       "      <th>...</th>\n",
       "      <td>...</td>\n",
       "      <td>...</td>\n",
       "      <td>...</td>\n",
       "      <td>...</td>\n",
       "      <td>...</td>\n",
       "    </tr>\n",
       "    <tr>\n",
       "      <th>2000-01-10</th>\n",
       "      <td>72.56</td>\n",
       "      <td>72.63</td>\n",
       "      <td>65.56</td>\n",
       "      <td>69.19</td>\n",
       "      <td>14757900.0</td>\n",
       "    </tr>\n",
       "    <tr>\n",
       "      <th>2000-01-07</th>\n",
       "      <td>67.00</td>\n",
       "      <td>70.50</td>\n",
       "      <td>66.19</td>\n",
       "      <td>69.56</td>\n",
       "      <td>10505400.0</td>\n",
       "    </tr>\n",
       "    <tr>\n",
       "      <th>2000-01-06</th>\n",
       "      <td>71.31</td>\n",
       "      <td>72.69</td>\n",
       "      <td>64.00</td>\n",
       "      <td>65.56</td>\n",
       "      <td>18752000.0</td>\n",
       "    </tr>\n",
       "    <tr>\n",
       "      <th>2000-01-05</th>\n",
       "      <td>70.75</td>\n",
       "      <td>75.13</td>\n",
       "      <td>69.63</td>\n",
       "      <td>71.75</td>\n",
       "      <td>38457400.0</td>\n",
       "    </tr>\n",
       "    <tr>\n",
       "      <th>2000-01-04</th>\n",
       "      <td>85.38</td>\n",
       "      <td>91.50</td>\n",
       "      <td>81.75</td>\n",
       "      <td>81.94</td>\n",
       "      <td>17487400.0</td>\n",
       "    </tr>\n",
       "  </tbody>\n",
       "</table>\n",
       "<p>5032 rows × 5 columns</p>\n",
       "</div>"
      ],
      "text/plain": [
       "               open     high      low    close      volume\n",
       "date                                                      \n",
       "2020-01-03  1864.50  1886.20  1864.50  1874.97   3766604.0\n",
       "2020-01-02  1875.00  1898.01  1864.15  1898.01   4035910.0\n",
       "2019-12-31  1842.00  1853.26  1832.23  1847.84   2510380.0\n",
       "2019-12-30  1874.00  1884.00  1840.62  1846.89   3677306.0\n",
       "2019-12-27  1882.92  1901.40  1866.01  1869.80   6188754.0\n",
       "...             ...      ...      ...      ...         ...\n",
       "2000-01-10    72.56    72.63    65.56    69.19  14757900.0\n",
       "2000-01-07    67.00    70.50    66.19    69.56  10505400.0\n",
       "2000-01-06    71.31    72.69    64.00    65.56  18752000.0\n",
       "2000-01-05    70.75    75.13    69.63    71.75  38457400.0\n",
       "2000-01-04    85.38    91.50    81.75    81.94  17487400.0\n",
       "\n",
       "[5032 rows x 5 columns]"
      ]
     },
     "execution_count": 5,
     "metadata": {},
     "output_type": "execute_result"
    }
   ],
   "source": [
    "# Rename columns\n",
    "amzn_data.rename(columns={'1. open': 'open', '2. high': 'high', '3. low': 'low', \n",
    "                          '4. close': 'close', '5. volume': 'volume'}, inplace=True)\n",
    "amzn_data"
   ]
  },
  {
   "cell_type": "code",
   "execution_count": 6,
   "metadata": {},
   "outputs": [
    {
     "data": {
      "text/plain": [
       "<matplotlib.axes._subplots.AxesSubplot at 0x7fa227db4950>"
      ]
     },
     "execution_count": 6,
     "metadata": {},
     "output_type": "execute_result"
    },
    {
     "data": {
      "image/png": "[encoded data removed]",
      "text/plain": [
       "<Figure size 648x288 with 1 Axes>"
      ]
     },
     "metadata": {
      "needs_background": "light"
     },
     "output_type": "display_data"
    }
   ],
   "source": [
    "# Line plot of closing prieces\n",
    "amzn_data['close'].plot(figsize=(9,4), title='Close price evolution')"
   ]
  },
  {
   "cell_type": "markdown",
   "metadata": {},
   "source": [
    "### Exploting Data "
   ]
  },
  {
   "cell_type": "code",
   "execution_count": 7,
   "metadata": {},
   "outputs": [
    {
     "data": {
      "text/html": [
       "<div>\n",
       "<style scoped>\n",
       "    .dataframe tbody tr th:only-of-type {\n",
       "        vertical-align: middle;\n",
       "    }\n",
       "\n",
       "    .dataframe tbody tr th {\n",
       "        vertical-align: top;\n",
       "    }\n",
       "\n",
       "    .dataframe thead th {\n",
       "        text-align: right;\n",
       "    }\n",
       "</style>\n",
       "<table border=\"1\" class=\"dataframe\">\n",
       "  <thead>\n",
       "    <tr style=\"text-align: right;\">\n",
       "      <th></th>\n",
       "      <th>open</th>\n",
       "      <th>high</th>\n",
       "      <th>low</th>\n",
       "      <th>close</th>\n",
       "      <th>volume</th>\n",
       "    </tr>\n",
       "    <tr>\n",
       "      <th>date</th>\n",
       "      <th></th>\n",
       "      <th></th>\n",
       "      <th></th>\n",
       "      <th></th>\n",
       "      <th></th>\n",
       "    </tr>\n",
       "  </thead>\n",
       "  <tbody>\n",
       "    <tr>\n",
       "      <th>2000-01-31</th>\n",
       "      <td>67.860526</td>\n",
       "      <td>70.212105</td>\n",
       "      <td>64.922105</td>\n",
       "      <td>67.033158</td>\n",
       "      <td>246091400.0</td>\n",
       "    </tr>\n",
       "    <tr>\n",
       "      <th>2000-02-29</th>\n",
       "      <td>72.382000</td>\n",
       "      <td>74.802500</td>\n",
       "      <td>70.019000</td>\n",
       "      <td>72.464000</td>\n",
       "      <td>207457700.0</td>\n",
       "    </tr>\n",
       "    <tr>\n",
       "      <th>2000-03-31</th>\n",
       "      <td>66.186087</td>\n",
       "      <td>68.150000</td>\n",
       "      <td>64.222174</td>\n",
       "      <td>66.482609</td>\n",
       "      <td>156584600.0</td>\n",
       "    </tr>\n",
       "    <tr>\n",
       "      <th>2000-04-30</th>\n",
       "      <td>56.712105</td>\n",
       "      <td>59.547895</td>\n",
       "      <td>53.489474</td>\n",
       "      <td>56.376842</td>\n",
       "      <td>162012500.0</td>\n",
       "    </tr>\n",
       "    <tr>\n",
       "      <th>2000-05-31</th>\n",
       "      <td>53.750000</td>\n",
       "      <td>55.848182</td>\n",
       "      <td>51.110000</td>\n",
       "      <td>53.769091</td>\n",
       "      <td>130688600.0</td>\n",
       "    </tr>\n",
       "    <tr>\n",
       "      <th>...</th>\n",
       "      <td>...</td>\n",
       "      <td>...</td>\n",
       "      <td>...</td>\n",
       "      <td>...</td>\n",
       "      <td>...</td>\n",
       "    </tr>\n",
       "    <tr>\n",
       "      <th>2019-09-30</th>\n",
       "      <td>1801.716000</td>\n",
       "      <td>1812.319000</td>\n",
       "      <td>1784.686000</td>\n",
       "      <td>1799.121000</td>\n",
       "      <td>62003799.0</td>\n",
       "    </tr>\n",
       "    <tr>\n",
       "      <th>2019-10-31</th>\n",
       "      <td>1749.089130</td>\n",
       "      <td>1763.666957</td>\n",
       "      <td>1736.604783</td>\n",
       "      <td>1752.331739</td>\n",
       "      <td>71821008.0</td>\n",
       "    </tr>\n",
       "    <tr>\n",
       "      <th>2019-11-30</th>\n",
       "      <td>1775.338000</td>\n",
       "      <td>1784.218000</td>\n",
       "      <td>1764.300500</td>\n",
       "      <td>1774.294000</td>\n",
       "      <td>52060472.0</td>\n",
       "    </tr>\n",
       "    <tr>\n",
       "      <th>2019-12-31</th>\n",
       "      <td>1786.190000</td>\n",
       "      <td>1797.110000</td>\n",
       "      <td>1773.846667</td>\n",
       "      <td>1785.772857</td>\n",
       "      <td>68522009.0</td>\n",
       "    </tr>\n",
       "    <tr>\n",
       "      <th>2020-01-31</th>\n",
       "      <td>1869.750000</td>\n",
       "      <td>1892.105000</td>\n",
       "      <td>1864.325000</td>\n",
       "      <td>1886.490000</td>\n",
       "      <td>7802514.0</td>\n",
       "    </tr>\n",
       "  </tbody>\n",
       "</table>\n",
       "<p>241 rows × 5 columns</p>\n",
       "</div>"
      ],
      "text/plain": [
       "                   open         high          low        close       volume\n",
       "date                                                                       \n",
       "2000-01-31    67.860526    70.212105    64.922105    67.033158  246091400.0\n",
       "2000-02-29    72.382000    74.802500    70.019000    72.464000  207457700.0\n",
       "2000-03-31    66.186087    68.150000    64.222174    66.482609  156584600.0\n",
       "2000-04-30    56.712105    59.547895    53.489474    56.376842  162012500.0\n",
       "2000-05-31    53.750000    55.848182    51.110000    53.769091  130688600.0\n",
       "...                 ...          ...          ...          ...          ...\n",
       "2019-09-30  1801.716000  1812.319000  1784.686000  1799.121000   62003799.0\n",
       "2019-10-31  1749.089130  1763.666957  1736.604783  1752.331739   71821008.0\n",
       "2019-11-30  1775.338000  1784.218000  1764.300500  1774.294000   52060472.0\n",
       "2019-12-31  1786.190000  1797.110000  1773.846667  1785.772857   68522009.0\n",
       "2020-01-31  1869.750000  1892.105000  1864.325000  1886.490000    7802514.0\n",
       "\n",
       "[241 rows x 5 columns]"
      ]
     },
     "execution_count": 7,
     "metadata": {},
     "output_type": "execute_result"
    }
   ],
   "source": [
    "# Resample data in Months intervals\n",
    "amzn_data_month = amzn_data.resample('M', label='right').agg({'open': np.mean, 'high': np.mean, \n",
    "                                                              'low': np.mean, 'close': np.mean, \n",
    "                                                              'volume': np.sum})\n",
    "amzn_data_month"
   ]
  },
  {
   "cell_type": "code",
   "execution_count": 8,
   "metadata": {},
   "outputs": [
    {
     "data": {
      "text/plain": [
       "<matplotlib.axes._subplots.AxesSubplot at 0x7fa227e1abd0>"
      ]
     },
     "execution_count": 8,
     "metadata": {},
     "output_type": "execute_result"
    },
    {
     "data": {
      "image/png": "[encoded data removed]",
      "text/plain": [
       "<Figure size 432x288 with 1 Axes>"
      ]
     },
     "metadata": {
      "needs_background": "light"
     },
     "output_type": "display_data"
    }
   ],
   "source": [
    "# Open and Close from last year (2019)\n",
    "amzn_data_month.loc['2019-01-31': '2019-12-31', ['open', 'close']].plot()"
   ]
  },
  {
   "cell_type": "code",
   "execution_count": 9,
   "metadata": {},
   "outputs": [
    {
     "data": {
      "text/plain": [
       "<matplotlib.axes._subplots.AxesSubplot at 0x7fa227c9f550>"
      ]
     },
     "execution_count": 9,
     "metadata": {},
     "output_type": "execute_result"
    },
    {
     "data": {
      "image/png": "[encoded data removed]",
      "text/plain": [
       "<Figure size 432x288 with 1 Axes>"
      ]
     },
     "metadata": {
      "needs_background": "light"
     },
     "output_type": "display_data"
    }
   ],
   "source": [
    "plt.figure()  # Specify it in case the plot is not showed\n",
    "# Get the differents between high and low prices to see volatility\n",
    "diff = amzn_data['high'] - amzn_data['low']\n",
    "diff.plot(kind='hist', bins=30)"
   ]
  },
  {
   "cell_type": "code",
   "execution_count": 10,
   "metadata": {},
   "outputs": [
    {
     "data": {
      "text/plain": [
       "Timestamp('2018-10-29 00:00:00')"
      ]
     },
     "execution_count": 10,
     "metadata": {},
     "output_type": "execute_result"
    }
   ],
   "source": [
    "# Get the date of maxim different in the data set\n",
    "diff.idxmax()"
   ]
  },
  {
   "cell_type": "code",
   "execution_count": 11,
   "metadata": {},
   "outputs": [
    {
     "data": {
      "text/html": [
       "<div>\n",
       "<style scoped>\n",
       "    .dataframe tbody tr th:only-of-type {\n",
       "        vertical-align: middle;\n",
       "    }\n",
       "\n",
       "    .dataframe tbody tr th {\n",
       "        vertical-align: top;\n",
       "    }\n",
       "\n",
       "    .dataframe thead th {\n",
       "        text-align: right;\n",
       "    }\n",
       "</style>\n",
       "<table border=\"1\" class=\"dataframe\">\n",
       "  <thead>\n",
       "    <tr style=\"text-align: right;\">\n",
       "      <th></th>\n",
       "      <th>date</th>\n",
       "      <th>open</th>\n",
       "      <th>high</th>\n",
       "      <th>low</th>\n",
       "      <th>close</th>\n",
       "      <th>volume</th>\n",
       "    </tr>\n",
       "  </thead>\n",
       "  <tbody>\n",
       "    <tr>\n",
       "      <th>296</th>\n",
       "      <td>2018-10-29</td>\n",
       "      <td>1660.0</td>\n",
       "      <td>1665.74</td>\n",
       "      <td>1495.0</td>\n",
       "      <td>1538.88</td>\n",
       "      <td>13866077.0</td>\n",
       "    </tr>\n",
       "  </tbody>\n",
       "</table>\n",
       "</div>"
      ],
      "text/plain": [
       "          date    open     high     low    close      volume\n",
       "296 2018-10-29  1660.0  1665.74  1495.0  1538.88  13866077.0"
      ]
     },
     "execution_count": 11,
     "metadata": {},
     "output_type": "execute_result"
    }
   ],
   "source": [
    "# Reset index to have date as a column of the dataframe\n",
    "amzn_data_no_data_index = amzn_data.reset_index()\n",
    "amzn_data_no_data_index[amzn_data_no_data_index['date'] == '2018-10-29']"
   ]
  },
  {
   "cell_type": "markdown",
   "metadata": {},
   "source": [
    "## Build a candle plot"
   ]
  },
  {
   "cell_type": "code",
   "execution_count": 12,
   "metadata": {},
   "outputs": [],
   "source": [
    "# Just work for values 2019\n",
    "amzn_data_2019 = amzn_data_no_data_index[(amzn_data_no_data_index['date'] > '2019-01-01') & \n",
    "                                         (amzn_data_no_data_index['date'] < '2019-12-31')]"
   ]
  },
  {
   "cell_type": "code",
   "execution_count": 13,
   "metadata": {},
   "outputs": [
    {
     "data": {
      "text/html": [
       "<div>\n",
       "<style scoped>\n",
       "    .dataframe tbody tr th:only-of-type {\n",
       "        vertical-align: middle;\n",
       "    }\n",
       "\n",
       "    .dataframe tbody tr th {\n",
       "        vertical-align: top;\n",
       "    }\n",
       "\n",
       "    .dataframe thead th {\n",
       "        text-align: right;\n",
       "    }\n",
       "</style>\n",
       "<table border=\"1\" class=\"dataframe\">\n",
       "  <thead>\n",
       "    <tr style=\"text-align: right;\">\n",
       "      <th></th>\n",
       "      <th>open</th>\n",
       "      <th>high</th>\n",
       "      <th>low</th>\n",
       "      <th>close</th>\n",
       "      <th>volume</th>\n",
       "    </tr>\n",
       "    <tr>\n",
       "      <th>date</th>\n",
       "      <th></th>\n",
       "      <th></th>\n",
       "      <th></th>\n",
       "      <th></th>\n",
       "      <th></th>\n",
       "    </tr>\n",
       "  </thead>\n",
       "  <tbody>\n",
       "    <tr>\n",
       "      <th>2019-12-30</th>\n",
       "      <td>1874.00</td>\n",
       "      <td>1884.00</td>\n",
       "      <td>1840.62</td>\n",
       "      <td>1846.89</td>\n",
       "      <td>3677306.0</td>\n",
       "    </tr>\n",
       "    <tr>\n",
       "      <th>2019-12-27</th>\n",
       "      <td>1882.92</td>\n",
       "      <td>1901.40</td>\n",
       "      <td>1866.01</td>\n",
       "      <td>1869.80</td>\n",
       "      <td>6188754.0</td>\n",
       "    </tr>\n",
       "    <tr>\n",
       "      <th>2019-12-26</th>\n",
       "      <td>1801.01</td>\n",
       "      <td>1870.46</td>\n",
       "      <td>1799.50</td>\n",
       "      <td>1868.77</td>\n",
       "      <td>6024608.0</td>\n",
       "    </tr>\n",
       "    <tr>\n",
       "      <th>2019-12-24</th>\n",
       "      <td>1793.81</td>\n",
       "      <td>1795.57</td>\n",
       "      <td>1787.58</td>\n",
       "      <td>1789.21</td>\n",
       "      <td>881337.0</td>\n",
       "    </tr>\n",
       "    <tr>\n",
       "      <th>2019-12-23</th>\n",
       "      <td>1788.26</td>\n",
       "      <td>1793.00</td>\n",
       "      <td>1784.51</td>\n",
       "      <td>1793.00</td>\n",
       "      <td>2137493.0</td>\n",
       "    </tr>\n",
       "    <tr>\n",
       "      <th>...</th>\n",
       "      <td>...</td>\n",
       "      <td>...</td>\n",
       "      <td>...</td>\n",
       "      <td>...</td>\n",
       "      <td>...</td>\n",
       "    </tr>\n",
       "    <tr>\n",
       "      <th>2019-01-08</th>\n",
       "      <td>1664.69</td>\n",
       "      <td>1676.61</td>\n",
       "      <td>1616.61</td>\n",
       "      <td>1656.58</td>\n",
       "      <td>8881428.0</td>\n",
       "    </tr>\n",
       "    <tr>\n",
       "      <th>2019-01-07</th>\n",
       "      <td>1602.31</td>\n",
       "      <td>1634.56</td>\n",
       "      <td>1589.18</td>\n",
       "      <td>1629.51</td>\n",
       "      <td>7993213.0</td>\n",
       "    </tr>\n",
       "    <tr>\n",
       "      <th>2019-01-04</th>\n",
       "      <td>1530.00</td>\n",
       "      <td>1594.00</td>\n",
       "      <td>1518.31</td>\n",
       "      <td>1575.39</td>\n",
       "      <td>9182575.0</td>\n",
       "    </tr>\n",
       "    <tr>\n",
       "      <th>2019-01-03</th>\n",
       "      <td>1520.01</td>\n",
       "      <td>1538.00</td>\n",
       "      <td>1497.11</td>\n",
       "      <td>1500.28</td>\n",
       "      <td>6975572.0</td>\n",
       "    </tr>\n",
       "    <tr>\n",
       "      <th>2019-01-02</th>\n",
       "      <td>1465.20</td>\n",
       "      <td>1553.36</td>\n",
       "      <td>1460.93</td>\n",
       "      <td>1539.13</td>\n",
       "      <td>7983103.0</td>\n",
       "    </tr>\n",
       "  </tbody>\n",
       "</table>\n",
       "<p>251 rows × 5 columns</p>\n",
       "</div>"
      ],
      "text/plain": [
       "               open     high      low    close     volume\n",
       "date                                                     \n",
       "2019-12-30  1874.00  1884.00  1840.62  1846.89  3677306.0\n",
       "2019-12-27  1882.92  1901.40  1866.01  1869.80  6188754.0\n",
       "2019-12-26  1801.01  1870.46  1799.50  1868.77  6024608.0\n",
       "2019-12-24  1793.81  1795.57  1787.58  1789.21   881337.0\n",
       "2019-12-23  1788.26  1793.00  1784.51  1793.00  2137493.0\n",
       "...             ...      ...      ...      ...        ...\n",
       "2019-01-08  1664.69  1676.61  1616.61  1656.58  8881428.0\n",
       "2019-01-07  1602.31  1634.56  1589.18  1629.51  7993213.0\n",
       "2019-01-04  1530.00  1594.00  1518.31  1575.39  9182575.0\n",
       "2019-01-03  1520.01  1538.00  1497.11  1500.28  6975572.0\n",
       "2019-01-02  1465.20  1553.36  1460.93  1539.13  7983103.0\n",
       "\n",
       "[251 rows x 5 columns]"
      ]
     },
     "execution_count": 13,
     "metadata": {},
     "output_type": "execute_result"
    }
   ],
   "source": [
    "amzn_data_2019.set_index('date')"
   ]
  },
  {
   "cell_type": "code",
   "execution_count": 14,
   "metadata": {},
   "outputs": [
    {
     "data": {
      "image/png": "[encoded data removed]",
      "text/plain": [
       "<Figure size 648x360 with 1 Axes>"
      ]
     },
     "metadata": {
      "needs_background": "light"
     },
     "output_type": "display_data"
    }
   ],
   "source": [
    "from mpl_finance import candlestick2_ohlc\n",
    "fig, ax1 = plt.subplots(1, 1, figsize=(9,5))\n",
    "c1 = candlestick2_ohlc(ax=ax1, opens=amzn_data_2019['open'], highs=amzn_data_2019['high'],\n",
    "                       lows=amzn_data_2019['low'], closes=amzn_data_2019['close'], width=.6, \n",
    "                       colorup='#77d879', colordown='#db3f3f')"
   ]
  },
  {
   "cell_type": "markdown",
   "metadata": {},
   "source": [
    "### Adding a Simple Moving Average"
   ]
  },
  {
   "cell_type": "code",
   "execution_count": 19,
   "metadata": {},
   "outputs": [
    {
     "name": "stderr",
     "output_type": "stream",
     "text": [
      "/home/didac/anaconda3/envs/masterds/lib/python3.7/site-packages/ipykernel_launcher.py:2: SettingWithCopyWarning: \n",
      "A value is trying to be set on a copy of a slice from a DataFrame.\n",
      "Try using .loc[row_indexer,col_indexer] = value instead\n",
      "\n",
      "See the caveats in the documentation: http://pandas.pydata.org/pandas-docs/stable/user_guide/indexing.html#returning-a-view-versus-a-copy\n",
      "  \n"
     ]
    },
    {
     "data": {
      "text/html": [
       "<div>\n",
       "<style scoped>\n",
       "    .dataframe tbody tr th:only-of-type {\n",
       "        vertical-align: middle;\n",
       "    }\n",
       "\n",
       "    .dataframe tbody tr th {\n",
       "        vertical-align: top;\n",
       "    }\n",
       "\n",
       "    .dataframe thead th {\n",
       "        text-align: right;\n",
       "    }\n",
       "</style>\n",
       "<table border=\"1\" class=\"dataframe\">\n",
       "  <thead>\n",
       "    <tr style=\"text-align: right;\">\n",
       "      <th></th>\n",
       "      <th>date</th>\n",
       "      <th>open</th>\n",
       "      <th>high</th>\n",
       "      <th>low</th>\n",
       "      <th>close</th>\n",
       "      <th>volume</th>\n",
       "      <th>mean</th>\n",
       "    </tr>\n",
       "  </thead>\n",
       "  <tbody>\n",
       "    <tr>\n",
       "      <th>3</th>\n",
       "      <td>2019-12-30</td>\n",
       "      <td>1874.00</td>\n",
       "      <td>1884.00</td>\n",
       "      <td>1840.62</td>\n",
       "      <td>1846.89</td>\n",
       "      <td>3677306.0</td>\n",
       "      <td>1860.445</td>\n",
       "    </tr>\n",
       "    <tr>\n",
       "      <th>4</th>\n",
       "      <td>2019-12-27</td>\n",
       "      <td>1882.92</td>\n",
       "      <td>1901.40</td>\n",
       "      <td>1866.01</td>\n",
       "      <td>1869.80</td>\n",
       "      <td>6188754.0</td>\n",
       "      <td>1876.360</td>\n",
       "    </tr>\n",
       "    <tr>\n",
       "      <th>5</th>\n",
       "      <td>2019-12-26</td>\n",
       "      <td>1801.01</td>\n",
       "      <td>1870.46</td>\n",
       "      <td>1799.50</td>\n",
       "      <td>1868.77</td>\n",
       "      <td>6024608.0</td>\n",
       "      <td>1834.890</td>\n",
       "    </tr>\n",
       "    <tr>\n",
       "      <th>6</th>\n",
       "      <td>2019-12-24</td>\n",
       "      <td>1793.81</td>\n",
       "      <td>1795.57</td>\n",
       "      <td>1787.58</td>\n",
       "      <td>1789.21</td>\n",
       "      <td>881337.0</td>\n",
       "      <td>1791.510</td>\n",
       "    </tr>\n",
       "    <tr>\n",
       "      <th>7</th>\n",
       "      <td>2019-12-23</td>\n",
       "      <td>1788.26</td>\n",
       "      <td>1793.00</td>\n",
       "      <td>1784.51</td>\n",
       "      <td>1793.00</td>\n",
       "      <td>2137493.0</td>\n",
       "      <td>1790.630</td>\n",
       "    </tr>\n",
       "    <tr>\n",
       "      <th>...</th>\n",
       "      <td>...</td>\n",
       "      <td>...</td>\n",
       "      <td>...</td>\n",
       "      <td>...</td>\n",
       "      <td>...</td>\n",
       "      <td>...</td>\n",
       "      <td>...</td>\n",
       "    </tr>\n",
       "    <tr>\n",
       "      <th>249</th>\n",
       "      <td>2019-01-08</td>\n",
       "      <td>1664.69</td>\n",
       "      <td>1676.61</td>\n",
       "      <td>1616.61</td>\n",
       "      <td>1656.58</td>\n",
       "      <td>8881428.0</td>\n",
       "      <td>1660.635</td>\n",
       "    </tr>\n",
       "    <tr>\n",
       "      <th>250</th>\n",
       "      <td>2019-01-07</td>\n",
       "      <td>1602.31</td>\n",
       "      <td>1634.56</td>\n",
       "      <td>1589.18</td>\n",
       "      <td>1629.51</td>\n",
       "      <td>7993213.0</td>\n",
       "      <td>1615.910</td>\n",
       "    </tr>\n",
       "    <tr>\n",
       "      <th>251</th>\n",
       "      <td>2019-01-04</td>\n",
       "      <td>1530.00</td>\n",
       "      <td>1594.00</td>\n",
       "      <td>1518.31</td>\n",
       "      <td>1575.39</td>\n",
       "      <td>9182575.0</td>\n",
       "      <td>1552.695</td>\n",
       "    </tr>\n",
       "    <tr>\n",
       "      <th>252</th>\n",
       "      <td>2019-01-03</td>\n",
       "      <td>1520.01</td>\n",
       "      <td>1538.00</td>\n",
       "      <td>1497.11</td>\n",
       "      <td>1500.28</td>\n",
       "      <td>6975572.0</td>\n",
       "      <td>1510.145</td>\n",
       "    </tr>\n",
       "    <tr>\n",
       "      <th>253</th>\n",
       "      <td>2019-01-02</td>\n",
       "      <td>1465.20</td>\n",
       "      <td>1553.36</td>\n",
       "      <td>1460.93</td>\n",
       "      <td>1539.13</td>\n",
       "      <td>7983103.0</td>\n",
       "      <td>1502.165</td>\n",
       "    </tr>\n",
       "  </tbody>\n",
       "</table>\n",
       "<p>251 rows × 7 columns</p>\n",
       "</div>"
      ],
      "text/plain": [
       "          date     open     high      low    close     volume      mean\n",
       "3   2019-12-30  1874.00  1884.00  1840.62  1846.89  3677306.0  1860.445\n",
       "4   2019-12-27  1882.92  1901.40  1866.01  1869.80  6188754.0  1876.360\n",
       "5   2019-12-26  1801.01  1870.46  1799.50  1868.77  6024608.0  1834.890\n",
       "6   2019-12-24  1793.81  1795.57  1787.58  1789.21   881337.0  1791.510\n",
       "7   2019-12-23  1788.26  1793.00  1784.51  1793.00  2137493.0  1790.630\n",
       "..         ...      ...      ...      ...      ...        ...       ...\n",
       "249 2019-01-08  1664.69  1676.61  1616.61  1656.58  8881428.0  1660.635\n",
       "250 2019-01-07  1602.31  1634.56  1589.18  1629.51  7993213.0  1615.910\n",
       "251 2019-01-04  1530.00  1594.00  1518.31  1575.39  9182575.0  1552.695\n",
       "252 2019-01-03  1520.01  1538.00  1497.11  1500.28  6975572.0  1510.145\n",
       "253 2019-01-02  1465.20  1553.36  1460.93  1539.13  7983103.0  1502.165\n",
       "\n",
       "[251 rows x 7 columns]"
      ]
     },
     "execution_count": 19,
     "metadata": {},
     "output_type": "execute_result"
    }
   ],
   "source": [
    "# Adding the Moving Average\n",
    "amzn_data_2019['mean'] = (amzn_data_2019.loc[:]['open'] + amzn_data_2019.loc[:]['close']) / 2\n",
    "amzn_data_2019"
   ]
  },
  {
   "cell_type": "code",
   "execution_count": 20,
   "metadata": {},
   "outputs": [
    {
     "data": {
      "image/png": "[encoded data removed]",
      "text/plain": [
       "<Figure size 648x360 with 1 Axes>"
      ]
     },
     "metadata": {
      "needs_background": "light"
     },
     "output_type": "display_data"
    }
   ],
   "source": [
    "rolling_mean_10 = amzn_data_2019['mean'].rolling(window=10).mean()\n",
    "rolling_mean_30 = amzn_data_2019['mean'].rolling(window=30).mean()\n",
    "fig, ax1 = plt.subplots(1, 1, figsize=(9,5))\n",
    "c1 = candlestick2_ohlc(ax=ax1, opens=amzn_data_2019['open'], highs=amzn_data_2019['high'],\n",
    "                       lows=amzn_data_2019['low'], closes=amzn_data_2019['close'], width=.6, \n",
    "                       colorup='#77d879', colordown='#db3f3f')"
   ]
  },
  {
   "cell_type": "code",
   "execution_count": 21,
   "metadata": {},
   "outputs": [
    {
     "data": {
      "image/png": "[encoded data removed]",
      "text/plain": [
       "<Figure size 648x360 with 1 Axes>"
      ]
     },
     "metadata": {
      "needs_background": "light"
     },
     "output_type": "display_data"
    }
   ],
   "source": [
    "fig, ax = plt.subplots(1, 1, figsize=(9,5))\n",
    "#plt.plot(amzn_data_2019.index, amzn_data_2019['close'], label='AMZN')\n",
    "plt.plot(amzn_data_2019.index, rolling_mean_10, label='AMZN 10 Day SMA', color='orange')\n",
    "plt.plot(amzn_data_2019.index, rolling_mean_30, label='AMZN 30 Day SMA', color='magenta')\n",
    "c1 = candlestick2_ohlc(ax=ax, opens=amzn_data_2019['open'], highs=amzn_data_2019['high'],\n",
    "                       lows=amzn_data_2019['low'], closes=amzn_data_2019['close'], width=.6, \n",
    "                       colorup='#77d879', colordown='#db3f3f')\n",
    "plt.xlabel('Open days in 2019', fontsize=12)\n",
    "plt.ylabel('Price in USD', fontsize=12)\n",
    "plt.title('AMZN Stocks 2019', fontsize=14)\n",
    "plt.legend(loc='upper left')\n",
    "plt.show()"
   ]
  },
  {
   "cell_type": "markdown",
   "metadata": {},
   "source": [
    "### Exponential Moving Average"
   ]
  },
  {
   "cell_type": "code",
   "execution_count": 18,
   "metadata": {},
   "outputs": [
    {
     "data": {
      "image/png": "[encoded data removed]",
      "text/plain": [
       "<Figure size 648x360 with 1 Axes>"
      ]
     },
     "metadata": {
      "needs_background": "light"
     },
     "output_type": "display_data"
    }
   ],
   "source": [
    "# Defining the two exponential moving avarage\n",
    "exp_10 = amzn_data_2019['mean'].ewm(span=10, adjust=False).mean()\n",
    "exp_30 = amzn_data_2019['mean'].ewm(span=30, adjust=False).mean()\n",
    "# Plotting\n",
    "fig = plt.subplots(1, 1, figsize=(9,5))\n",
    "plt.plot(amzn_data_2019.index, amzn_data_2019['mean'], label='AMZN')\n",
    "plt.plot(amzn_data_2019.index, exp_10, label='AMZN 10 Day EMA')\n",
    "plt.plot(amzn_data_2019.index, exp_30, label='AMZN 30 Day EMA')\n",
    "plt.legend(loc='upper left')\n",
    "plt.show()"
   ]
  },
  {
   "cell_type": "code",
   "execution_count": null,
   "metadata": {},
   "outputs": [],
   "source": []
  }
 ],
 "metadata": {
  "kernelspec": {
   "display_name": "Python 3",
   "language": "python",
   "name": "python3"
  },
  "language_info": {
   "codemirror_mode": {
    "name": "ipython",
    "version": 3
   },
   "file_extension": ".py",
   "mimetype": "text/x-python",
   "name": "python",
   "nbconvert_exporter": "python",
   "pygments_lexer": "ipython3",
   "version": "3.7.5"
  }
 },
 "nbformat": 4,
 "nbformat_minor": 2
}
